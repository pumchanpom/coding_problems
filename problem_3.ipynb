{
 "cells": [
  {
   "cell_type": "code",
   "execution_count": 16,
   "metadata": {},
   "outputs": [],
   "source": [
    "def isHappy(n):\n",
    "    def squareEachDigit(num):\n",
    "        numToStr = str(num)\n",
    "        total = 0\n",
    "        for item in numToStr:\n",
    "            total += int(item)**2\n",
    "        return total\n",
    "\n",
    "    setTotal = set()\n",
    "    total =  squareEachDigit(n)\n",
    "    while total >= 0:\n",
    "        if total == 1:\n",
    "            return True\n",
    "        elif total not in setTotal: \n",
    "            setTotal.add(total)\n",
    "            total =  squareEachDigit(total)\n",
    "        elif total in setTotal:\n",
    "            return False"
   ]
  },
  {
   "cell_type": "code",
   "execution_count": 14,
   "metadata": {},
   "outputs": [
    {
     "name": "stdout",
     "output_type": "stream",
     "text": [
      "n = 19 \n",
      "Output: True\n",
      "\n",
      "n = 2 \n",
      "Output: False\n",
      "\n"
     ]
    }
   ],
   "source": [
    "n = 19\n",
    "print(f\"n = {n} \\nOutput: {isHappy(n)}\\n\")\n",
    "\n",
    "n = 2 \n",
    "print(f\"n = {n} \\nOutput: {isHappy(n)}\\n\")"
   ]
  }
 ],
 "metadata": {
  "kernelspec": {
   "display_name": "Python 3",
   "language": "python",
   "name": "python3"
  },
  "language_info": {
   "codemirror_mode": {
    "name": "ipython",
    "version": 3
   },
   "file_extension": ".py",
   "mimetype": "text/x-python",
   "name": "python",
   "nbconvert_exporter": "python",
   "pygments_lexer": "ipython3",
   "version": "3.11.0"
  },
  "orig_nbformat": 4
 },
 "nbformat": 4,
 "nbformat_minor": 2
}
