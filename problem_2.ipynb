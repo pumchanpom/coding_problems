{
 "cells": [
  {
   "cell_type": "code",
   "execution_count": 3,
   "metadata": {},
   "outputs": [
    {
     "name": "stdout",
     "output_type": "stream",
     "text": [
      "[1, 2, 'Fizz', 4, 'Buzz', 'Fizz', 7, 8, 'Fizz', 'Buzz', 11, 'Fizz', 13, 14, 'FizzBuzz', 16, 17, 'Fizz', 19, 'Buzz', 'Fizz', 22, 23, 'Fizz', 'Buzz', 26, 'Fizz', 28, 29, 'FizzBuzz']\n"
     ]
    }
   ],
   "source": [
    "# fizzbuzz function\n",
    "def fizzbuzz(limit):\n",
    "\n",
    "    numList = []\n",
    "    for i in range(1, limit+1):\n",
    "        numList.append(i)\n",
    "\n",
    "    for i in range(len(numList)):\n",
    "        if ((numList[i] % 3 == 0) and (numList[i] % 5 == 0)):\n",
    "            numList[i] = 'FizzBuzz'\n",
    "        elif (numList[i] % 3 == 0):\n",
    "            numList[i] = 'Fizz'\n",
    "        elif (numList[i] % 5 == 0):\n",
    "            numList[i] = 'Buzz'\n",
    "    return numList\n",
    "\n",
    "print(fizzbuzz(30)) #test function"
   ]
  }
 ],
 "metadata": {
  "kernelspec": {
   "display_name": "Python 3",
   "language": "python",
   "name": "python3"
  },
  "language_info": {
   "codemirror_mode": {
    "name": "ipython",
    "version": 3
   },
   "file_extension": ".py",
   "mimetype": "text/x-python",
   "name": "python",
   "nbconvert_exporter": "python",
   "pygments_lexer": "ipython3",
   "version": "3.10.7"
  },
  "orig_nbformat": 4
 },
 "nbformat": 4,
 "nbformat_minor": 2
}
